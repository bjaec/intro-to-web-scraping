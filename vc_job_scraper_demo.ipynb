{
 "cells": [
  {
   "cell_type": "markdown",
   "metadata": {},
   "source": [
    "### Setup"
   ]
  },
  {
   "cell_type": "markdown",
   "metadata": {},
   "source": [
    "Download Python if you have not already! https://www.python.org/downloads/\n",
    "\n",
    "Download Jupyter Notebook at https://jupyter.org/install and follow instructions under \"Getting started with the classic Jupyter Notebook\"\n",
    "\n",
    "Open terminal and type \"jupyter notebook\" then press enter!"
   ]
  },
  {
   "cell_type": "markdown",
   "metadata": {},
   "source": [
    "### Import Packages!"
   ]
  },
  {
   "cell_type": "code",
   "execution_count": 115,
   "metadata": {},
   "outputs": [
    {
     "name": "stderr",
     "output_type": "stream",
     "text": [
      "/Library/Frameworks/Python.framework/Versions/3.7/lib/python3.7/site-packages/ipykernel_launcher.py:32: DeprecationWarning: executable_path has been deprecated, please pass in a Service object\n"
     ]
    }
   ],
   "source": [
    "# Allows you to create and manipulate data tables\n",
    "import pandas as pd\n",
    "# Allows driver to get access the elements on a page\n",
    "import urllib.request\n",
    "# Allows us to wait before moving on to another action\n",
    "import time\n",
    "\n",
    "# Airtable documentation: https://pyairtable.readthedocs.io/en/latest/getting-started.html\n",
    "# Allows us to access Airtable, create tokens here https://airtable.com/create/tokens/new\n",
    "from pyairtable import Table\n",
    "# Don't show your API key to other people or they will purchase a bunch of requests and screw you over\n",
    "f = open(\"airtable_key.txt\", \"r\")\n",
    "api_key = f.read()\n",
    "\n",
    "# Selenium is an automation framework that allows you to access web pages\n",
    "from selenium import webdriver\n",
    "# Not used for this section but WebDriverWait allows you to wait until something loads\n",
    "from selenium.webdriver.support.ui import WebDriverWait\n",
    "# EC is also used to let our code know when an expected condition such as a page load finishes\n",
    "from selenium.webdriver.support import expected_conditions as EC\n",
    "# Time exception can be thrown if the driver can't find the web element you want\n",
    "from selenium.common.exceptions import TimeoutException\n",
    "# The variable that tries to fulfill the expected condition\n",
    "from selenium.webdriver.common.by import By\n",
    "\n",
    "from webdriver_manager.chrome import ChromeDriverManager\n",
    "# Options for the webdriver such as going through Chrome incognito and sending requests without headers\n",
    "options = webdriver.ChromeOptions()\n",
    "options.add_argument('--ignore-certificate-errors')\n",
    "options.add_argument('--incognito')\n",
    "options.add_argument('--headless')\n",
    "driver = webdriver.Chrome(ChromeDriverManager().install())\n",
    "#ChromeDriverManager().install()"
   ]
  },
  {
   "cell_type": "markdown",
   "metadata": {},
   "source": [
    "### Get the data from both Airtables as dictionaries"
   ]
  },
  {
   "cell_type": "code",
   "execution_count": 111,
   "metadata": {},
   "outputs": [
    {
     "data": {
      "text/plain": [
       "[{'id': 'reckdYoCVU2nsCGel',\n",
       "  'createdTime': '2023-03-31T15:49:25.000Z',\n",
       "  'fields': {'Name': 'Greylock', 'URL': 'https://jobs.greylock.com/jobs'}},\n",
       " {'id': 'recpJUlFuSVotqrX1',\n",
       "  'createdTime': '2023-03-31T15:49:25.000Z',\n",
       "  'fields': {'Name': 'Khosla', 'URL': 'https://jobs.khoslaventures.com/jobs'}},\n",
       " {'id': 'recpLeGkaWO3XT8On',\n",
       "  'createdTime': '2023-03-31T15:49:25.000Z',\n",
       "  'fields': {'Name': '8VC', 'URL': 'https://jobs.8vc.com/jobs'}}]"
      ]
     },
     "execution_count": 111,
     "metadata": {},
     "output_type": "execute_result"
    }
   ],
   "source": [
    "# Dictionary is in the format [key: value, key: value, key;value etc]\n",
    "# Nested Dictionary is in the format [key:{}]\n",
    "\n",
    "# The base id can be found in the Airtable URL\n",
    "# For example: https://airtable.com/appymSmq5Liwaf17Y/tblHCYebPG05igKPd/viw8yQuFr4pRttzZK?blocks=hide, the base ID starts with app and is\n",
    "# appymSmq5Liwaf17Y \n",
    "\n",
    "at_venture_firms = Table(api_key, 'appp2lepQxmNkFrSB', 'venture_firms_table')\n",
    "data_venture_firms = at_venture_firms.all()\n",
    "\n",
    "at_jobs = Table(api_key, 'appymSmq5Liwaf17Y', 'jobs_table')\n",
    "data_jobs = at_jobs.all()\n",
    "data_venture_firms"
   ]
  },
  {
   "cell_type": "markdown",
   "metadata": {},
   "source": [
    "### Get job website URLs from table"
   ]
  },
  {
   "cell_type": "code",
   "execution_count": 112,
   "metadata": {},
   "outputs": [
    {
     "data": {
      "text/plain": [
       "[{'Name': 'Greylock', 'URL': 'https://jobs.greylock.com/jobs'},\n",
       " {'Name': 'Khosla', 'URL': 'https://jobs.khoslaventures.com/jobs'},\n",
       " {'Name': '8VC', 'URL': 'https://jobs.8vc.com/jobs'}]"
      ]
     },
     "execution_count": 112,
     "metadata": {},
     "output_type": "execute_result"
    }
   ],
   "source": [
    "vc_list = []\n",
    "for row in data_venture_firms:\n",
    "    field = row[\"fields\"]\n",
    "    vc_list.append(field)\n",
    "vc_list"
   ]
  },
  {
   "cell_type": "markdown",
   "metadata": {},
   "source": [
    " ### Locate the job cards // Docs: https://selenium-python.readthedocs.io/locating-elements.html"
   ]
  },
  {
   "cell_type": "code",
   "execution_count": 113,
   "metadata": {},
   "outputs": [],
   "source": [
    "# Go to your webpage, then right click -> inspect element\n",
    "\n",
    "def get_jobs(vc):\n",
    "    name = vc['Name']\n",
    "    url = vc['URL']\n",
    "    driver.get(url)\n",
    "    driver.execute_script(\"window.scrollTo(0, document.body.scrollHeight);var lenOfPage=document.body.scrollHeight;return lenOfPage;\")\n",
    "    time.sleep(5)\n",
    "    \n",
    "    # find the xpath that gets the data you need!\n",
    "    results = driver.find_elements(\"xpath\",\"//div[contains(@class, 'job-card')]\")\n",
    "    insert_job(results, name)\n"
   ]
  },
  {
   "cell_type": "code",
   "execution_count": 123,
   "metadata": {},
   "outputs": [
    {
     "name": "stdout",
     "output_type": "stream",
     "text": [
      "Greylock Product Manager at Greylock\n",
      "Greylock Software Engineer at Greylock\n",
      "Greylock Product Designer at Greylock\n",
      "Cato Networks Sales Development Representative, North Central at Cato Networks\n",
      "Cato Networks Sales Development Representative, Australia at Cato Networks\n",
      "Tome Content Marketing Manager at Tome\n",
      "Adept Technical Sourcer at Adept\n",
      "Lyra Health Senior Group Manager, Customer Success Implementation at Lyra Health\n",
      "Clockwise Product Marketing Manager at Clockwise\n",
      "Orb Solutions Engineer at Orb\n",
      "Orb Product Manager at Orb\n",
      "Orb Engineering Manager at Orb\n",
      "Discord Senior Software Engineer, Safety Processing at Discord\n",
      "Discord Senior Software Engineer, Creator Revenue at Discord\n",
      "Discord Senior Product Marketing Manager, Insights & Strategy at Discord\n",
      "Discord Group Product Marketing Manager, Privacy at Discord\n",
      "Cribl Sr UX Researcher at Cribl\n",
      "Cribl Customer Experience Enablement Specialist at Cribl\n",
      "Magic Eden Senior Product Marketing Manager, Marketplace Strategy at Magic Eden\n",
      "Magic Eden Senior Marketplace Product Strategy & GTM Manager at Magic Eden\n"
     ]
    }
   ],
   "source": [
    "get_jobs(vc_list[0])"
   ]
  },
  {
   "cell_type": "markdown",
   "metadata": {},
   "source": [
    "### Find the name and role"
   ]
  },
  {
   "cell_type": "code",
   "execution_count": 122,
   "metadata": {},
   "outputs": [],
   "source": [
    "def insert_job(results, name):\n",
    "#     accepted_locations = [\"MA, USA\", \"CA, USA\", \"WA, USA\", \"NY, USA\", \"IL, USA\", \"Washington, DC, USA\", \"Remote\"]\n",
    "#     block_positions = [\"Senior\", \"Sr\", \"Coordinator\",\"principle\",\"sr\",\"Lead\",\"SR\", \"Facilitator\", \"Site\", \"Inventory\", \"Line\", 'Contractor', \"Account\", \"Specialist\", \"Officer\", \"Site\", \"Technician\", \"Payroll\", \"Supervisor\", \"Risk\", \"Credit\", \"HR\", \"Accounting\", \"Assistant\", \"Executive\", \"Agent\", \"Shift\", \"Administrator\"]\n",
    "    \n",
    "    for card in results:\n",
    "        card_html = card.get_attribute('innerHTML')\n",
    "        company = card.find_element(\"xpath\", './/div[@itemprop=\"hiringOrganization\"]').text\n",
    "        role = card.find_element(\"xpath\", './/meta[@itemprop=\"description\"]').get_attribute(\"content\")\n",
    "\n",
    "        # Make sure the dictionary keys are equal to the Airtable col names\n",
    "        at_jobs.create({'Company':company,'Role':role})\n"
   ]
  },
  {
   "cell_type": "markdown",
   "metadata": {},
   "source": [
    "### Run the program!"
   ]
  },
  {
   "cell_type": "code",
   "execution_count": 124,
   "metadata": {},
   "outputs": [
    {
     "name": "stdout",
     "output_type": "stream",
     "text": [
      "Greylock Product Manager at Greylock\n",
      "Greylock Software Engineer at Greylock\n",
      "Greylock Product Designer at Greylock\n",
      "Cato Networks Sales Development Representative, North Central at Cato Networks\n",
      "Cato Networks Sales Development Representative, Australia at Cato Networks\n",
      "Tome Content Marketing Manager at Tome\n",
      "Adept Technical Sourcer at Adept\n",
      "Lyra Health Senior Group Manager, Customer Success Implementation at Lyra Health\n",
      "Clockwise Product Marketing Manager at Clockwise\n",
      "Orb Solutions Engineer at Orb\n",
      "Orb Product Manager at Orb\n",
      "Orb Engineering Manager at Orb\n",
      "Discord Senior Software Engineer, Safety Processing at Discord\n",
      "Discord Senior Software Engineer, Creator Revenue at Discord\n",
      "Discord Senior Product Marketing Manager, Insights & Strategy at Discord\n",
      "Discord Group Product Marketing Manager, Privacy at Discord\n",
      "Cribl Sr UX Researcher at Cribl\n",
      "Cribl Customer Experience Enablement Specialist at Cribl\n",
      "Magic Eden Senior Product Marketing Manager, Marketplace Strategy at Magic Eden\n",
      "Magic Eden Senior Marketplace Product Strategy & GTM Manager at Magic Eden\n",
      "Oscar Health Senior Medical Director, Utilization Management at Oscar Health\n",
      "Oscar Health Physician Reviewer, Utilization Management (part-time) at Oscar Health\n",
      "Oscar Health Managing Medical Director, Utilization Management at Oscar Health\n",
      "Oscar Health Copy of Senior Analyst, Network Insights & Filings at Oscar Health\n",
      "Oscar Health Associate, Regulatory - remote at Oscar Health\n",
      "Opentrons Senior Accountant at Opentrons\n",
      "Homebase Growth Lead, Organic/SEO at Homebase\n",
      "Homebase Director, Growth Marketing / Senior Director, Growth Marketing at Homebase\n",
      "TrueAccord VP, Information Security at TrueAccord\n",
      "Caption Health Sales Director Value Based Care Segment at Caption Health\n",
      "Hello Heart Senior Talent Acquisition Partner at Hello Heart\n",
      "Hello Heart Customer Support Specialist (PST Time Zone) at Hello Heart\n",
      "Rocket Lab Software Engineer II - Business Automation - Web at Rocket Lab\n",
      "Rocket Lab Senior Software Engineer - Business Automation (Flame) at Rocket Lab\n",
      "Rocket Lab Composites Technician  - Level I-IV at Rocket Lab\n",
      "Rocket Lab GNC Engineer II - Mission Design at Rocket Lab\n",
      "Rocket Lab IT Systems Engineer I at Rocket Lab\n",
      "Rocket Lab Senior IT Systems Engineer at Rocket Lab\n",
      "Rocket Lab Internship - Propulsion, Neutron (Fall 2023) at Rocket Lab\n",
      "Rocket Lab Lead FPGA Engineer at Rocket Lab\n",
      "Oscar Health Senior Medical Director, Utilization Management at Oscar Health\n",
      "Oscar Health Physician Reviewer, Utilization Management (part-time) at Oscar Health\n",
      "Oscar Health Managing Medical Director, Utilization Management at Oscar Health\n",
      "Oscar Health Copy of Senior Analyst, Network Insights & Filings at Oscar Health\n",
      "Oscar Health Associate, Regulatory - remote at Oscar Health\n",
      "Joby Aviation Safety Intern at Joby Aviation\n",
      "Joby Aviation Certification Engineer, Mechanical Systems at Joby Aviation\n",
      "Joby Aviation Certification Engineer, Energy Storage Systems at Joby Aviation\n",
      "Joby Aviation Systems and Equipment DER, Electrical Systems at Joby Aviation\n",
      "Joby Aviation Software Engineer, Energy Storage at Joby Aviation\n",
      "Plotlogic Laboratory Coordinator at Plotlogic\n",
      "Illumio Vice President, Demand Marketing at Illumio \n",
      "Illumio System Engineer at Illumio \n",
      "Illumio System Engineer at Illumio \n",
      "Illumio System Engineer at Illumio \n",
      "Illumio Staff Technology Exploration Engineer at Illumio \n",
      "Illumio Staff Technology Exploration Engineer at Illumio \n",
      "Illumio Staff Technology Exploration Engineer at Illumio \n",
      "Illumio Staff Technology Exploration Engineer at Illumio \n",
      "Illumio Staff Technology Exploration Engineer at Illumio \n"
     ]
    }
   ],
   "source": [
    "for vc in vc_list:\n",
    "    get_jobs(vc)"
   ]
  },
  {
   "cell_type": "code",
   "execution_count": null,
   "metadata": {},
   "outputs": [],
   "source": []
  }
 ],
 "metadata": {
  "kernelspec": {
   "display_name": "Python 3 (ipykernel)",
   "language": "python",
   "name": "python3"
  },
  "language_info": {
   "codemirror_mode": {
    "name": "ipython",
    "version": 3
   },
   "file_extension": ".py",
   "mimetype": "text/x-python",
   "name": "python",
   "nbconvert_exporter": "python",
   "pygments_lexer": "ipython3",
   "version": "3.7.3"
  }
 },
 "nbformat": 4,
 "nbformat_minor": 2
}
